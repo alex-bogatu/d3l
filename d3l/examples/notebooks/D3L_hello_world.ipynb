{
 "cells": [
  {
   "cell_type": "markdown",
   "id": "a894ccb7",
   "metadata": {},
   "source": [
    "## Example notebook for performing data discovery using D3L"
   ]
  },
  {
   "cell_type": "code",
   "execution_count": 1,
   "id": "98d2e65f",
   "metadata": {},
   "outputs": [
    {
     "ename": "ModuleNotFoundError",
     "evalue": "No module named 'numpy'",
     "output_type": "error",
     "traceback": [
      "\u001b[0;31m---------------------------------------------------------------------------\u001b[0m",
      "\u001b[0;31mModuleNotFoundError\u001b[0m                       Traceback (most recent call last)",
      "\u001b[0;32m<ipython-input-1-7ff745fe7a22>\u001b[0m in \u001b[0;36m<module>\u001b[0;34m\u001b[0m\n\u001b[0;32m----> 1\u001b[0;31m \u001b[0;32mimport\u001b[0m \u001b[0mnumpy\u001b[0m \u001b[0;32mas\u001b[0m \u001b[0mnp\u001b[0m\u001b[0;34m\u001b[0m\u001b[0;34m\u001b[0m\u001b[0m\n\u001b[0m\u001b[1;32m      2\u001b[0m \u001b[0;32mfrom\u001b[0m \u001b[0md3l\u001b[0m\u001b[0;34m.\u001b[0m\u001b[0mindexing\u001b[0m\u001b[0;34m.\u001b[0m\u001b[0msimilarity_indexes\u001b[0m \u001b[0;32mimport\u001b[0m \u001b[0mNameIndex\u001b[0m\u001b[0;34m,\u001b[0m \u001b[0mFormatIndex\u001b[0m\u001b[0;34m,\u001b[0m \u001b[0mValueIndex\u001b[0m\u001b[0;34m,\u001b[0m \u001b[0mEmbeddingIndex\u001b[0m\u001b[0;34m,\u001b[0m\u001b[0;31m \u001b[0m\u001b[0;31m\\\u001b[0m\u001b[0;34m\u001b[0m\u001b[0;34m\u001b[0m\u001b[0m\n\u001b[1;32m      3\u001b[0m     \u001b[0mDistributionIndex\u001b[0m\u001b[0;34m\u001b[0m\u001b[0;34m\u001b[0m\u001b[0m\n\u001b[1;32m      4\u001b[0m \u001b[0;32mfrom\u001b[0m \u001b[0md3l\u001b[0m\u001b[0;34m.\u001b[0m\u001b[0minput_output\u001b[0m\u001b[0;34m.\u001b[0m\u001b[0mdataloaders\u001b[0m \u001b[0;32mimport\u001b[0m \u001b[0mPostgresDataLoader\u001b[0m\u001b[0;34m,\u001b[0m \u001b[0mCSVDataLoader\u001b[0m\u001b[0;34m\u001b[0m\u001b[0;34m\u001b[0m\u001b[0m\n\u001b[1;32m      5\u001b[0m \u001b[0;32mfrom\u001b[0m \u001b[0md3l\u001b[0m\u001b[0;34m.\u001b[0m\u001b[0mquerying\u001b[0m\u001b[0;34m.\u001b[0m\u001b[0mquery_engine\u001b[0m \u001b[0;32mimport\u001b[0m \u001b[0mQueryEngine\u001b[0m\u001b[0;34m\u001b[0m\u001b[0;34m\u001b[0m\u001b[0m\n",
      "\u001b[0;31mModuleNotFoundError\u001b[0m: No module named 'numpy'"
     ]
    }
   ],
   "source": [
    "import numpy as np\n",
    "from d3l.indexing.similarity_indexes import NameIndex, FormatIndex, ValueIndex, EmbeddingIndex, DistributionIndex\n",
    "from d3l.input_output.dataloaders import PostgresDataLoader, CSVDataLoader\n",
    "from d3l.querying.query_engine import QueryEngine\n",
    "from d3l.utils.functions import pickle_python_object, unpickle_python_object"
   ]
  },
  {
   "cell_type": "code",
   "execution_count": null,
   "id": "72fed81b",
   "metadata": {},
   "outputs": [],
   "source": []
  }
 ],
 "metadata": {
  "kernelspec": {
   "display_name": "Python 3",
   "language": "python",
   "name": "python3"
  },
  "language_info": {
   "codemirror_mode": {
    "name": "ipython",
    "version": 3
   },
   "file_extension": ".py",
   "mimetype": "text/x-python",
   "name": "python",
   "nbconvert_exporter": "python",
   "pygments_lexer": "ipython3",
   "version": "3.8.0"
  }
 },
 "nbformat": 4,
 "nbformat_minor": 5
}
