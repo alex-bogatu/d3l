{
 "cells": [
  {
   "cell_type": "markdown",
   "id": "a894ccb7",
   "metadata": {},
   "source": [
    "# Example notebook for performing data discovery using D3L\n",
    "\n",
    "The D3L package is based on the ICDE 2020 paper with the same name: https://arxiv.org/pdf/2011.10427.pdf"
   ]
  },
  {
   "cell_type": "code",
   "execution_count": 1,
   "id": "98d2e65f",
   "metadata": {},
   "outputs": [
    {
     "ename": "ModuleNotFoundError",
     "evalue": "No module named 'numpy'",
     "output_type": "error",
     "traceback": [
      "\u001b[0;31m---------------------------------------------------------------------------\u001b[0m",
      "\u001b[0;31mModuleNotFoundError\u001b[0m                       Traceback (most recent call last)",
      "\u001b[0;32m<ipython-input-1-baf58105bf50>\u001b[0m in \u001b[0;36m<module>\u001b[0;34m\u001b[0m\n\u001b[0;32m----> 1\u001b[0;31m \u001b[0;32mimport\u001b[0m \u001b[0mnumpy\u001b[0m \u001b[0;32mas\u001b[0m \u001b[0mnp\u001b[0m\u001b[0;34m\u001b[0m\u001b[0;34m\u001b[0m\u001b[0m\n\u001b[0m\u001b[1;32m      2\u001b[0m \u001b[0;32mfrom\u001b[0m \u001b[0md3l\u001b[0m\u001b[0;34m.\u001b[0m\u001b[0mindexing\u001b[0m\u001b[0;34m.\u001b[0m\u001b[0msimilarity_indexes\u001b[0m \u001b[0;32mimport\u001b[0m \u001b[0mNameIndex\u001b[0m\u001b[0;34m,\u001b[0m \u001b[0mFormatIndex\u001b[0m\u001b[0;34m,\u001b[0m \u001b[0mValueIndex\u001b[0m\u001b[0;34m,\u001b[0m \u001b[0mEmbeddingIndex\u001b[0m\u001b[0;34m,\u001b[0m \u001b[0mDistributionIndex\u001b[0m\u001b[0;34m\u001b[0m\u001b[0;34m\u001b[0m\u001b[0m\n\u001b[1;32m      3\u001b[0m \u001b[0;32mfrom\u001b[0m \u001b[0md3l\u001b[0m\u001b[0;34m.\u001b[0m\u001b[0minput_output\u001b[0m\u001b[0;34m.\u001b[0m\u001b[0mdataloaders\u001b[0m \u001b[0;32mimport\u001b[0m \u001b[0mPostgresDataLoader\u001b[0m\u001b[0;34m,\u001b[0m \u001b[0mCSVDataLoader\u001b[0m\u001b[0;34m\u001b[0m\u001b[0;34m\u001b[0m\u001b[0m\n\u001b[1;32m      4\u001b[0m \u001b[0;32mfrom\u001b[0m \u001b[0md3l\u001b[0m\u001b[0;34m.\u001b[0m\u001b[0mquerying\u001b[0m\u001b[0;34m.\u001b[0m\u001b[0mquery_engine\u001b[0m \u001b[0;32mimport\u001b[0m \u001b[0mQueryEngine\u001b[0m\u001b[0;34m\u001b[0m\u001b[0;34m\u001b[0m\u001b[0m\n\u001b[1;32m      5\u001b[0m \u001b[0;32mfrom\u001b[0m \u001b[0md3l\u001b[0m\u001b[0;34m.\u001b[0m\u001b[0mutils\u001b[0m\u001b[0;34m.\u001b[0m\u001b[0mfunctions\u001b[0m \u001b[0;32mimport\u001b[0m \u001b[0mpickle_python_object\u001b[0m\u001b[0;34m,\u001b[0m \u001b[0munpickle_python_object\u001b[0m\u001b[0;34m\u001b[0m\u001b[0;34m\u001b[0m\u001b[0m\n",
      "\u001b[0;31mModuleNotFoundError\u001b[0m: No module named 'numpy'"
     ]
    }
   ],
   "source": [
    "import numpy as np\n",
    "from d3l.indexing.similarity_indexes import NameIndex, FormatIndex, ValueIndex, EmbeddingIndex, DistributionIndex\n",
    "from d3l.input_output.dataloaders import PostgresDataLoader, CSVDataLoader\n",
    "from d3l.querying.query_engine import QueryEngine\n",
    "from d3l.utils.functions import pickle_python_object, unpickle_python_object"
   ]
  },
  {
   "cell_type": "markdown",
   "id": "6d812b58",
   "metadata": {},
   "source": [
    "## Data indexing\n",
    "\n",
    "There are two main steps in D3L: indexing and searching. \n",
    "Data indexing reads all datasets from a given data lake and indexes their columns using multiple LSH indexes and multiple types of similarity evidence."
   ]
  },
  {
   "cell_type": "markdown",
   "id": "d9fbfa64",
   "metadata": {},
   "source": [
    "### Data loading\n",
    "\n",
    "This example cell uses a CSV data loader that requires a root path where all CSV files to index can be found. In addition Pandas-specific CSV reading arguments can be passed, such as the separator character, encoding, etc.\n",
    "\n",
    "Other supported data loader types include Postgresql data loaders."
   ]
  },
  {
   "cell_type": "code",
   "execution_count": 3,
   "id": "6b257d79",
   "metadata": {},
   "outputs": [],
   "source": [
    "# Postgres data loader\n",
    "\n",
    "# dataloader = PostgresDataLoader(\n",
    "#     db_host=\"localhost\",\n",
    "#     db_password=\"postgres\",\n",
    "#     db_username=\"postgres\",\n",
    "#     db_name=\"postgres\",\n",
    "#     db_port=5432\n",
    "# )"
   ]
  },
  {
   "cell_type": "code",
   "execution_count": 4,
   "id": "233cdbba",
   "metadata": {},
   "outputs": [
    {
     "ename": "NameError",
     "evalue": "name 'CSVDataLoader' is not defined",
     "output_type": "error",
     "traceback": [
      "\u001b[0;31m---------------------------------------------------------------------------\u001b[0m",
      "\u001b[0;31mNameError\u001b[0m                                 Traceback (most recent call last)",
      "\u001b[0;32m<ipython-input-4-b3cd4993b43a>\u001b[0m in \u001b[0;36m<module>\u001b[0;34m\u001b[0m\n\u001b[1;32m      1\u001b[0m \u001b[0;31m# CSV data loader\u001b[0m\u001b[0;34m\u001b[0m\u001b[0;34m\u001b[0m\u001b[0;34m\u001b[0m\u001b[0m\n\u001b[0;32m----> 2\u001b[0;31m dataloader = CSVDataLoader(\n\u001b[0m\u001b[1;32m      3\u001b[0m     \u001b[0mroot_path\u001b[0m\u001b[0;34m=\u001b[0m\u001b[0;34m'/Users/alexteodor/Downloads/evaluation/groundTruth/'\u001b[0m\u001b[0;34m,\u001b[0m\u001b[0;34m\u001b[0m\u001b[0;34m\u001b[0m\u001b[0m\n\u001b[1;32m      4\u001b[0m     \u001b[0msep\u001b[0m\u001b[0;34m=\u001b[0m\u001b[0;34m','\u001b[0m\u001b[0;34m\u001b[0m\u001b[0;34m\u001b[0m\u001b[0m\n\u001b[1;32m      5\u001b[0m )\n",
      "\u001b[0;31mNameError\u001b[0m: name 'CSVDataLoader' is not defined"
     ]
    }
   ],
   "source": [
    "# CSV data loader\n",
    "dataloader = CSVDataLoader(\n",
    "    root_path='/Users/alexteodor/Downloads/evaluation/groundTruth/',\n",
    "    sep=','\n",
    ")"
   ]
  },
  {
   "cell_type": "markdown",
   "id": "3b381b4d",
   "metadata": {},
   "source": [
    "### Index creation\n",
    "D3L uses five types of column similarity evidence and, therefore, five LSH indexes: name-based, format-based, value-based, embedding-based, and distribution-based. The last index type is characteristic to numerical columns and performs LSH indexing using the random projections hash function applied on the density-based histogram of values. This is different from the numerical approach proposed in the paper."
   ]
  },
  {
   "cell_type": "code",
   "execution_count": null,
   "id": "47f3ebcb",
   "metadata": {},
   "outputs": [],
   "source": []
  }
 ],
 "metadata": {
  "kernelspec": {
   "display_name": "venv",
   "language": "python",
   "name": "venv"
  },
  "language_info": {
   "codemirror_mode": {
    "name": "ipython",
    "version": 3
   },
   "file_extension": ".py",
   "mimetype": "text/x-python",
   "name": "python",
   "nbconvert_exporter": "python",
   "pygments_lexer": "ipython3",
   "version": "3.8.0"
  }
 },
 "nbformat": 4,
 "nbformat_minor": 5
}
