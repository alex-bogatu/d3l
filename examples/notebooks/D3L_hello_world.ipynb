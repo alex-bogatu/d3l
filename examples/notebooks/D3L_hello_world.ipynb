{
 "cells": [
  {
   "cell_type": "markdown",
   "id": "a894ccb7",
   "metadata": {},
   "source": [
    "# Example notebook for performing data discovery using D3L\n",
    "\n",
    "The D3L package is based on the ICDE 2020 paper with the same name: https://arxiv.org/pdf/2011.10427.pdf"
   ]
  },
  {
   "cell_type": "code",
   "execution_count": null,
   "id": "98d2e65f",
   "metadata": {},
   "outputs": [],
   "source": [
    "import numpy as np\n",
    "from d3l.indexing.similarity_indexes import NameIndex, FormatIndex, ValueIndex, EmbeddingIndex, DistributionIndex\n",
    "from d3l.input_output.dataloaders import PostgresDataLoader, CSVDataLoader\n",
    "from d3l.querying.query_engine import QueryEngine\n",
    "from d3l.utils.functions import pickle_python_object, unpickle_python_object"
   ]
  },
  {
   "cell_type": "markdown",
   "id": "6d812b58",
   "metadata": {},
   "source": [
    "## Data indexing\n",
    "\n",
    "There are two main steps in D3L: indexing and searching. \n",
    "Data indexing reads all datasets from a given data lake and indexes their columns using multiple LSH indexes and multiple types of similarity evidence."
   ]
  },
  {
   "cell_type": "markdown",
   "id": "d9fbfa64",
   "metadata": {},
   "source": [
    "### Data loading\n",
    "\n",
    "This example cell uses a CSV data loader that requires a root path where all CSV files to index can be found. In addition Pandas-specific CSV reading arguments can be passed, such as the separator character, encoding, etc.\n",
    "\n",
    "Other supported data loader types include Postgresql data loaders."
   ]
  },
  {
   "cell_type": "code",
   "execution_count": null,
   "id": "6b257d79",
   "metadata": {},
   "outputs": [],
   "source": [
    "# Postgres data loader\n",
    "\n",
    "# dataloader = PostgresDataLoader(\n",
    "#     db_host=\"localhost\",\n",
    "#     db_password=\"postgres\",\n",
    "#     db_username=\"postgres\",\n",
    "#     db_name=\"postgres\",\n",
    "#     db_port=5432\n",
    "# )"
   ]
  },
  {
   "cell_type": "code",
   "execution_count": null,
   "id": "233cdbba",
   "metadata": {},
   "outputs": [],
   "source": [
    "# CSV data loader\n",
    "dataloader = CSVDataLoader(\n",
    "    root_path='<path/to/the/CSV/root/>',\n",
    "    sep=','\n",
    ")"
   ]
  },
  {
   "cell_type": "markdown",
   "id": "3b381b4d",
   "metadata": {},
   "source": [
    "### Index creation\n",
    "D3L uses five types of column similarity evidence and, therefore, five LSH indexes: name-based, format-based, value-based, embedding-based, and distribution-based. The last index type is characteristic to numerical columns and performs LSH indexing using the random projections hash function applied on the density-based histogram of values. This is different from the numerical approach proposed in the paper.\n",
    "\n",
    "Note that the embedding index requires to downloading and loading into memory the pretrained FastText embedding model. This will be downloaded once in the working directory. The default gzipped English Common Crawl FastText model has 4.2 GB and its unzipped version has 6.7 GB."
   ]
  },
  {
   "cell_type": "code",
   "execution_count": null,
   "id": "47f3ebcb",
   "metadata": {},
   "outputs": [],
   "source": [
    "# Create new indexes\n",
    "name_index = NameIndex(dataloader=dataloader)\n",
    "pickle_python_object(name_index, './name.lsh')\n",
    "print(\"Name: SAVED!\")\n",
    "\n",
    "format_index = FormatIndex(dataloader=dataloader)\n",
    "pickle_python_object(format_index, './format.lsh')\n",
    "print(\"Format: SAVED!\")\n",
    "\n",
    "value_index = ValueIndex(dataloader=dataloader)\n",
    "pickle_python_object(value_index, './value.lsh')\n",
    "print(\"Value: SAVED!\")\n",
    "\n",
    "embedding_index = EmbeddingIndex(dataloader=dataloader)\n",
    "pickle_python_object(embedding_index, './embedding.lsh')\n",
    "print(\"Embedding: SAVED!\")\n",
    "\n",
    "distribution_index = DistributionIndex(dataloader=dataloader)\n",
    "pickle_python_object(distribution_index, './distribution.lsh')\n",
    "print(\"Distribution: SAVED!\")"
   ]
  },
  {
   "cell_type": "code",
   "execution_count": null,
   "id": "6e1b7fd5",
   "metadata": {},
   "outputs": [],
   "source": [
    "# Or load them from disk if they have been created\n",
    "name_index = unpickle_python_object('./name.lsh')\n",
    "format_index = unpickle_python_object('./format.lsh')\n",
    "value_index = unpickle_python_object('./value.lsh')\n",
    "embedding_index = unpickle_python_object('./embedding.lsh')\n",
    "distribution_index = unpickle_python_object('./distribution.lsh')"
   ]
  },
  {
   "cell_type": "markdown",
   "id": "6d2c0530",
   "metadata": {},
   "source": [
    "## Data searching\n",
    "\n",
    "Given a query table, each of the columns will be added to the relevant indexes and a top-k nearest neighbor search is performed for each query column on each index. The results are then aggregated as discussed in the paper, except for the aggregation of the five similarity scores which, in this example, is performed by a simple mean.\n",
    "\n",
    "If no aggregation is passed, each result will consist of a (result table name, five similarity scores) tuple. Otherwise, each result will consist of a (result table name, aggregated similarity score value) tuple. In the first case, the order of the score types corresponds to the order of the indexes passed to the query engine object."
   ]
  },
  {
   "cell_type": "code",
   "execution_count": null,
   "id": "7b48f06e",
   "metadata": {},
   "outputs": [],
   "source": [
    "qe = QueryEngine(name_index, format_index, value_index, embedding_index, distribution_index)\n",
    "results = qe.table_query(table=dataloader.read_table(table_name='TEgbBqq_Food_Hygiene_Data'),\n",
    "                         aggregator=None,\n",
    "                         k=10)\n",
    "print(results)"
   ]
  },
  {
   "cell_type": "code",
   "execution_count": null,
   "id": "6cfb761f",
   "metadata": {},
   "outputs": [],
   "source": []
  }
 ],
 "metadata": {
  "kernelspec": {
   "display_name": "python3.9",
   "language": "python",
   "name": "python3.9"
  },
  "language_info": {
   "codemirror_mode": {
    "name": "ipython",
    "version": 3
   },
   "file_extension": ".py",
   "mimetype": "text/x-python",
   "name": "python",
   "nbconvert_exporter": "python",
   "pygments_lexer": "ipython3",
   "version": "3.9.1"
  }
 },
 "nbformat": 4,
 "nbformat_minor": 5
}
